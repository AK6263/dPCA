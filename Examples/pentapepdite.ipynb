{
 "cells": [
  {
   "cell_type": "code",
   "execution_count": 1,
   "id": "3a1bccc5",
   "metadata": {},
   "outputs": [],
   "source": [
    "from dPCA import dPCA\n",
    "import mdshare\n",
    "import numpy as np\n",
    "import matplotlib.pyplot as plt"
   ]
  },
  {
   "cell_type": "markdown",
   "id": "96e5d4e4",
   "metadata": {},
   "source": [
    "**Downloading pentapetide trajectory**"
   ]
  },
  {
   "cell_type": "code",
   "execution_count": 2,
   "id": "f82637c0",
   "metadata": {},
   "outputs": [
    {
     "name": "stdout",
     "output_type": "stream",
     "text": [
      "Repository: http://ftp.imp.fu-berlin.de/pub/cmb-data/\n",
      "Files:\n",
      "alanine-dipeptide-0-250ns-nowater.xtc                  42.9 MB\n",
      "alanine-dipeptide-1-250ns-nowater.xtc                  42.9 MB\n",
      "alanine-dipeptide-2-250ns-nowater.xtc                  42.9 MB\n",
      "alanine-dipeptide-3x250ns-backbone-dihedrals.npz        6.0 MB\n",
      "alanine-dipeptide-3x250ns-heavy-atom-distances.npz    135.0 MB\n",
      "alanine-dipeptide-3x250ns-heavy-atom-positions.npz     90.0 MB\n",
      "alanine-dipeptide-nowater.pdb                           1.8 KB\n",
      "doublewell_disconnected.npy                           160.1 KB\n",
      "doublewell_oneway.npy                                 160.1 KB\n",
      "hmm-doublewell-2d-100k.npz                              2.0 MB\n",
      "mdshare-test-00.txt                                    33.0 bytes\n",
      "methane-dimer-umbrella-sampling.npz                   193.3 KB\n",
      "pentapeptide-00-500ns-impl-solv.xtc                     2.2 MB\n",
      "pentapeptide-01-500ns-impl-solv.xtc                     2.2 MB\n",
      "pentapeptide-02-500ns-impl-solv.xtc                     2.2 MB\n",
      "pentapeptide-03-500ns-impl-solv.xtc                     2.2 MB\n",
      "pentapeptide-04-500ns-impl-solv.xtc                     2.2 MB\n",
      "pentapeptide-05-500ns-impl-solv.xtc                     2.2 MB\n",
      "pentapeptide-06-500ns-impl-solv.xtc                     2.2 MB\n",
      "pentapeptide-07-500ns-impl-solv.xtc                     2.2 MB\n",
      "pentapeptide-08-500ns-impl-solv.xtc                     2.2 MB\n",
      "pentapeptide-09-500ns-impl-solv.xtc                     2.2 MB\n",
      "pentapeptide-10-500ns-impl-solv.xtc                     2.2 MB\n",
      "pentapeptide-11-500ns-impl-solv.xtc                     2.2 MB\n",
      "pentapeptide-12-500ns-impl-solv.xtc                     2.2 MB\n",
      "pentapeptide-13-500ns-impl-solv.xtc                     2.2 MB\n",
      "pentapeptide-14-500ns-impl-solv.xtc                     2.2 MB\n",
      "pentapeptide-15-500ns-impl-solv.xtc                     2.2 MB\n",
      "pentapeptide-16-500ns-impl-solv.xtc                     2.2 MB\n",
      "pentapeptide-17-500ns-impl-solv.xtc                     2.2 MB\n",
      "pentapeptide-18-500ns-impl-solv.xtc                     2.2 MB\n",
      "pentapeptide-19-500ns-impl-solv.xtc                     2.2 MB\n",
      "pentapeptide-20-500ns-impl-solv.xtc                     2.2 MB\n",
      "pentapeptide-21-500ns-impl-solv.xtc                     2.2 MB\n",
      "pentapeptide-22-500ns-impl-solv.xtc                     2.2 MB\n",
      "pentapeptide-23-500ns-impl-solv.xtc                     2.2 MB\n",
      "pentapeptide-24-500ns-impl-solv.xtc                     2.2 MB\n",
      "pentapeptide-impl-solv.pdb                              7.5 KB\n",
      "pyemma-tutorial-mt-data.npz                             4.8 MB\n",
      "pyemma-tutorial-tpt-data.npz                          513.0 KB\n",
      "pyemma-tutorial-us-data.npz                             1.6 MB\n",
      "pyemma-tutorial-us-nacl.npz                           241.1 KB\n",
      "Containers:\n",
      "mdshare-test.tar.gz                                   193.0 bytes\n",
      "pyemma-tutorial-livecoms.tar.gz                       123.9 MB\n"
     ]
    }
   ],
   "source": [
    "mdshare.catalogue()\n",
    "XTC = \"pentapeptide-00-500ns-impl-solv.xtc\"\n"
   ]
  }
 ],
 "metadata": {
  "kernelspec": {
   "display_name": "Python 3 (ipykernel)",
   "language": "python",
   "name": "python3"
  },
  "language_info": {
   "codemirror_mode": {
    "name": "ipython",
    "version": 3
   },
   "file_extension": ".py",
   "mimetype": "text/x-python",
   "name": "python",
   "nbconvert_exporter": "python",
   "pygments_lexer": "ipython3",
   "version": "3.7.12"
  }
 },
 "nbformat": 4,
 "nbformat_minor": 5
}

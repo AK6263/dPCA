{
 "cells": [
  {
   "cell_type": "code",
   "execution_count": 1,
   "id": "3a1bccc5",
   "metadata": {},
   "outputs": [],
   "source": [
    "from dPCA import dPCA\n",
    "import mdshare\n",
    "import numpy as np\n",
    "import matplotlib.pyplot as plt"
   ]
  },
  {
   "cell_type": "markdown",
   "id": "a97b3c7c",
   "metadata": {},
   "source": [
    "**Downloading pentapetide trajectory**"
   ]
  },
  {
   "cell_type": "code",
   "execution_count": 3,
   "id": "b396361e",
   "metadata": {},
   "outputs": [],
   "source": [
    "XTC = \"pentapeptide-00-500ns-impl-solv.xtc\"\n",
    "PDB = \"pentapeptide-impl-solv.pdb\""
   ]
  },
  {
   "cell_type": "code",
   "execution_count": 7,
   "id": "8f091cdf",
   "metadata": {},
   "outputs": [
    {
     "data": {
      "text/plain": [
       "'./pentapeptide-00-500ns-impl-solv.xtc'"
      ]
     },
     "execution_count": 7,
     "metadata": {},
     "output_type": "execute_result"
    }
   ],
   "source": [
    "mdshare.fetch(PDB)\n",
    "mdshare.fetch(XTC)"
   ]
  },
  {
   "cell_type": "code",
   "execution_count": 8,
   "id": "1b232858",
   "metadata": {},
   "outputs": [
    {
     "name": "stdout",
     "output_type": "stream",
     "text": [
      "dPCA.py\t\t    pentapeptide-00-500ns-impl-solv.xtc  __pycache__\r\n",
      "pentapepdite.ipynb  pentapeptide-impl-solv.pdb\r\n"
     ]
    }
   ],
   "source": [
    "!ls "
   ]
  }
 ],
 "metadata": {
  "kernelspec": {
   "display_name": "Python 3 (ipykernel)",
   "language": "python",
   "name": "python3"
  },
  "language_info": {
   "codemirror_mode": {
    "name": "ipython",
    "version": 3
   },
   "file_extension": ".py",
   "mimetype": "text/x-python",
   "name": "python",
   "nbconvert_exporter": "python",
   "pygments_lexer": "ipython3",
   "version": "3.7.12"
  }
 },
 "nbformat": 4,
 "nbformat_minor": 5
}
